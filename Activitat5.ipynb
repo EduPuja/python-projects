{
  "nbformat": 4,
  "nbformat_minor": 0,
  "metadata": {
    "colab": {
      "provenance": [],
      "authorship_tag": "ABX9TyPe7aQfVZIRncMWhgC6buNs",
      "include_colab_link": true
    },
    "kernelspec": {
      "name": "python3",
      "display_name": "Python 3"
    },
    "language_info": {
      "name": "python"
    }
  },
  "cells": [
    {
      "cell_type": "markdown",
      "metadata": {
        "id": "view-in-github",
        "colab_type": "text"
      },
      "source": [
        "<a href=\"https://colab.research.google.com/github/EduPuja/python-projects/blob/main/Activitat5.ipynb\" target=\"_parent\"><img src=\"https://colab.research.google.com/assets/colab-badge.svg\" alt=\"Open In Colab\"/></a>"
      ]
    },
    {
      "cell_type": "code",
      "execution_count": 3,
      "metadata": {
        "colab": {
          "base_uri": "https://localhost:8080/"
        },
        "id": "SDqqSmzWjWz9",
        "outputId": "91c0b11c-d3d7-4f9b-bc23-cd698945b3ad"
      },
      "outputs": [
        {
          "output_type": "stream",
          "name": "stdout",
          "text": [
            "Looking in indexes: https://pypi.org/simple, https://us-python.pkg.dev/colab-wheels/public/simple/\n",
            "Collecting chatterbot\n",
            "  Downloading ChatterBot-1.0.8-py2.py3-none-any.whl (63 kB)\n",
            "\u001b[K     |████████████████████████████████| 63 kB 2.2 MB/s \n",
            "\u001b[?25hRequirement already satisfied: python-dateutil<2.9,>=2.8 in /usr/local/lib/python3.7/dist-packages (from chatterbot) (2.8.2)\n",
            "Collecting mathparse<0.2,>=0.1\n",
            "  Downloading mathparse-0.1.2-py3-none-any.whl (7.2 kB)\n",
            "Requirement already satisfied: pytz in /usr/local/lib/python3.7/dist-packages (from chatterbot) (2022.6)\n",
            "Collecting sqlalchemy<1.4,>=1.3\n",
            "  Downloading SQLAlchemy-1.3.24-cp37-cp37m-manylinux2010_x86_64.whl (1.3 MB)\n",
            "\u001b[K     |████████████████████████████████| 1.3 MB 52.8 MB/s \n",
            "\u001b[?25hRequirement already satisfied: six>=1.5 in /usr/local/lib/python3.7/dist-packages (from python-dateutil<2.9,>=2.8->chatterbot) (1.15.0)\n",
            "Installing collected packages: sqlalchemy, mathparse, chatterbot\n",
            "  Attempting uninstall: sqlalchemy\n",
            "    Found existing installation: SQLAlchemy 1.4.44\n",
            "    Uninstalling SQLAlchemy-1.4.44:\n",
            "      Successfully uninstalled SQLAlchemy-1.4.44\n",
            "Successfully installed chatterbot-1.0.8 mathparse-0.1.2 sqlalchemy-1.3.24\n"
          ]
        }
      ],
      "source": [
        "# installacio\n",
        "!pip install chatterbot\n"
      ]
    },
    {
      "cell_type": "code",
      "source": [
        "# bot.py\n",
        "\n",
        "from chatterbot import ChatBot\n",
        "\n",
        "chatbot = ChatBot(\"Chatpot\")\n",
        "\n",
        "exit_conditions = (\":q\", \"quit\", \"exit\")\n",
        "while True:\n",
        "    query = input(\"> \")\n",
        "    if query in exit_conditions:\n",
        "        break\n",
        "    else:\n",
        "        print(f\"🪴 {chatbot.get_response(query)}\")"
      ],
      "metadata": {
        "id": "eyoQrXXLj-Ss"
      },
      "execution_count": null,
      "outputs": []
    }
  ]
}